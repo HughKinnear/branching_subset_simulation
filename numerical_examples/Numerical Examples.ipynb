{
 "cells": [
  {
   "cell_type": "code",
   "execution_count": 43,
   "id": "initial_id",
   "metadata": {
    "ExecuteTime": {
     "end_time": "2023-12-12T00:20:43.848694100Z",
     "start_time": "2023-12-12T00:20:43.844004800Z"
    }
   },
   "outputs": [],
   "source": [
    "import json\n",
    "import numpy as np\n",
    "from itertools import product\n",
    "from branching_sus.implementation import ConvexGraphBranching, SubsetSimulation\n",
    "from branching_sus.performance_function import breitung, himmel\n",
    "from branching_sus.estimate import exceedance_probability\n",
    "from scipy.spatial.distance import euclidean"
   ]
  },
  {
   "cell_type": "code",
   "execution_count": 30,
   "id": "51a9d0b6fd4225b5",
   "metadata": {
    "ExecuteTime": {
     "end_time": "2023-12-11T23:42:28.794279600Z",
     "start_time": "2023-12-11T23:42:28.790270200Z"
    },
    "collapsed": false
   },
   "outputs": [],
   "source": [
    "def run_bss_experiment(performance_function,\n",
    "                       threshold,\n",
    "                       region_indicator,\n",
    "                       file_name,\n",
    "                       dimensions,\n",
    "                       sizes,\n",
    "                       graph_budgets,\n",
    "                       seeds,\n",
    "                       penalties,\n",
    "                       regs):\n",
    "    results_keys = [\n",
    "        'dimension',\n",
    "        'size',\n",
    "        'graph_budget',\n",
    "        'seed',\n",
    "        'penalty',\n",
    "        'reg',\n",
    "        'region_indicator',\n",
    "        'performance_evaluation',\n",
    "        'exceedance_estimate'\n",
    "    ]\n",
    "    results = {key:[] for key in results_keys}\n",
    "    param_keys = [\n",
    "        'dimension',\n",
    "        'size',\n",
    "        'graph_budget',\n",
    "        'seed',\n",
    "        'penalty',\n",
    "        'reg'\n",
    "    ]\n",
    "    param_iterator = product(*[\n",
    "        dimensions,\n",
    "        sizes,\n",
    "        graph_budgets,\n",
    "        seeds,\n",
    "        penalties,\n",
    "        regs,\n",
    "    ])\n",
    "    for param_set in param_iterator:\n",
    "        \n",
    "        param_dict = {key:value\n",
    "                      for key, value in zip(param_keys,param_set)}\n",
    "        \n",
    "        for key, value in param_dict.items():\n",
    "            results[key].append(value)\n",
    "        \n",
    "        lsvc_params = {\n",
    "            'penalty': param_dict['penalty'],\n",
    "            'C': param_dict['reg'],\n",
    "            'dual':'auto'\n",
    "        }\n",
    "        \n",
    "        bss = ConvexGraphBranching(performance_function=performance_function,\n",
    "                                   dimension=param_dict['dimension'],\n",
    "                                   level_size=param_dict['size'],\n",
    "                                   threshold=threshold,\n",
    "                                   level_probability=0.1,\n",
    "                                   seed=param_dict['seed'],\n",
    "                                   params=lsvc_params,\n",
    "                                   convex_budget=param_dict['graph_budget'],\n",
    "                                   verbose=False)\n",
    "  \n",
    "        bss.run()\n",
    "        \n",
    "        results['region_indicator'].append(region_indicator(bss))\n",
    "        results['performance_evaluation'].append(bss\n",
    "                                                 .initial_level\n",
    "                                                 .indicator\n",
    "                                                 .performance_function\n",
    "                                                 .eval_count)\n",
    "        results['exceedance_estimate'].append(exceedance_probability(bss,threshold))\n",
    "        \n",
    "        with open(file_name, 'w') as file:\n",
    "            json.dump(results, file)\n",
    "                "
   ]
  },
  {
   "cell_type": "code",
   "execution_count": 31,
   "id": "b2c7c6e18bc7171",
   "metadata": {
    "ExecuteTime": {
     "end_time": "2023-12-11T23:42:36.959528900Z",
     "start_time": "2023-12-11T23:42:36.956528500Z"
    },
    "collapsed": false
   },
   "outputs": [],
   "source": [
    "def run_sus_experiment(performance_function,\n",
    "                       threshold,\n",
    "                       region_indicator,\n",
    "                       file_name,\n",
    "                       dimensions,\n",
    "                       sizes,\n",
    "                       seeds):\n",
    "    results_keys = [\n",
    "        'dimension',\n",
    "        'size',\n",
    "        'seed',\n",
    "        'region_indicator',\n",
    "        'performance_evaluation',\n",
    "        'exceedance_estimate'\n",
    "    ]\n",
    "    results = {key:[] for key in results_keys}\n",
    "    param_keys = [\n",
    "        'dimension',\n",
    "        'size',\n",
    "        'seed',\n",
    "    ]\n",
    "    param_iterator = product(*[\n",
    "        dimensions,\n",
    "        sizes,\n",
    "        seeds,\n",
    "    ])\n",
    "    for param_set in param_iterator:\n",
    "        \n",
    "        param_dict = {key:value\n",
    "                      for key, value in zip(param_keys,param_set)}\n",
    "        \n",
    "        for key, value in param_dict.items():\n",
    "            results[key].append(value)\n",
    "        \n",
    "        sus = SubsetSimulation(performance_function=performance_function,\n",
    "                               dimension=param_dict['dimension'],\n",
    "                               level_size=param_dict['size'],\n",
    "                               threshold=threshold,\n",
    "                               level_probability=0.1,\n",
    "                               seed=param_dict['seed'],\n",
    "                               verbose=False)\n",
    "  \n",
    "        sus.run()\n",
    "        \n",
    "        results['region_indicator'].append(region_indicator(sus))\n",
    "        results['performance_evaluation'].append(sus\n",
    "                                                 .initial_level\n",
    "                                                 .indicator\n",
    "                                                 .performance_function\n",
    "                                                 .eval_count)\n",
    "        results['exceedance_estimate'].append(exceedance_probability(sus,threshold))\n",
    "        \n",
    "        with open(file_name, 'w') as file:\n",
    "            json.dump(results, file)"
   ]
  },
  {
   "cell_type": "code",
   "execution_count": 32,
   "id": "dc90863b7106dd7c",
   "metadata": {
    "ExecuteTime": {
     "end_time": "2023-12-11T23:42:41.654705200Z",
     "start_time": "2023-12-11T23:42:41.648214800Z"
    },
    "collapsed": false
   },
   "outputs": [],
   "source": [
    "def breitung_region_indicator(bss):\n",
    "    return any([euclidean(x.array[:2],(4,0)) < 0.25\n",
    "                for x in bss.all_samples])\n",
    "    \n",
    "def himmel_region_indicator(bss):\n",
    "    maxima = [\n",
    "        (3, 2),\n",
    "        (-2.805118, 3.131312),\n",
    "        (-3.779310, -3.283186),\n",
    "        (3.584428, -1.848126)\n",
    "    ]\n",
    "    def sample_indicator(x):\n",
    "        return [euclidean(x[:2],maxi) < 0.25 for maxi in maxima]\n",
    "    \n",
    "    return [any(maxima)\n",
    "            for maxima in list(zip(*[sample_indicator(x.array)\n",
    "                                     for x in bss.all_samples]))]\n",
    "    "
   ]
  },
  {
   "cell_type": "markdown",
   "id": "d241a6acb6d58688",
   "metadata": {
    "collapsed": false
   },
   "source": [
    "# Breitung"
   ]
  },
  {
   "cell_type": "code",
   "execution_count": null,
   "id": "b2c79dfbf2743e44",
   "metadata": {
    "collapsed": false
   },
   "outputs": [],
   "source": [
    "dimensions = [2]\n",
    "sizes = [100,250,500,750,1000,1250,1500,2000,3000]\n",
    "seeds = [i for i in range(100)]\n",
    "\n",
    "run_sus_experiment(performance_function=breitung,\n",
    "                   threshold=0,\n",
    "                   region_indicator=breitung_region_indicator,\n",
    "                   file_name=\"bre_sus_dim_2.json\",\n",
    "                   dimensions=dimensions,\n",
    "                   sizes=sizes,\n",
    "                   seeds=seeds)"
   ]
  },
  {
   "cell_type": "code",
   "execution_count": null,
   "id": "698a868311f7e779",
   "metadata": {
    "collapsed": false
   },
   "outputs": [],
   "source": [
    "dimensions = [2]\n",
    "sizes = [500,1000,1500]\n",
    "graph_budgets = [100,500,1000]\n",
    "seeds = [i for i in range(100)]\n",
    "penalties = ['l2']\n",
    "regs = [1]\n",
    "\n",
    "run_bss_experiment(performance_function=breitung,\n",
    "                   threshold=0,\n",
    "                   region_indicator=breitung_region_indicator,\n",
    "                   file_name=\"bre_bss_dim_2.json\",\n",
    "                   dimensions=dimensions,\n",
    "                   sizes=sizes,\n",
    "                   graph_budgets=graph_budgets,\n",
    "                   seeds=seeds,\n",
    "                   penalties=penalties,\n",
    "                   regs=regs)"
   ]
  },
  {
   "cell_type": "code",
   "execution_count": null,
   "id": "2eb3a55dd9295c9c",
   "metadata": {
    "collapsed": false
   },
   "outputs": [],
   "source": [
    "dimensions = [50]\n",
    "sizes = [500,1000,1500]\n",
    "graph_budgets = [100,500,1000]\n",
    "seeds = [i for i in range(100)]\n",
    "penalties = ['l2']\n",
    "regs = [1]\n",
    "\n",
    "run_bss_experiment(performance_function=breitung,\n",
    "                   threshold=0,\n",
    "                   region_indicator=breitung_region_indicator,\n",
    "                   file_name=\"bre_bss_dim_50.json\",\n",
    "                   dimensions=dimensions,\n",
    "                   sizes=sizes,\n",
    "                   graph_budgets=graph_budgets,\n",
    "                   seeds=seeds,\n",
    "                   penalties=penalties,\n",
    "                   regs=regs)"
   ]
  },
  {
   "cell_type": "code",
   "execution_count": null,
   "id": "7a0d40f9d1bedcfb",
   "metadata": {
    "collapsed": false
   },
   "outputs": [],
   "source": [
    "dimensions = [50]\n",
    "sizes = [500]\n",
    "graph_budgets = [1000]\n",
    "seeds = [i for i in range(100)]\n",
    "penalties = ['l1']\n",
    "regs = [0.5,2,5,10]\n",
    "\n",
    "run_bss_experiment(performance_function=breitung,\n",
    "                   threshold=0,\n",
    "                   region_indicator=breitung_region_indicator,\n",
    "                   file_name=\"bre_bss_dim_50_l1.json\",\n",
    "                   dimensions=dimensions,\n",
    "                   sizes=sizes,\n",
    "                   graph_budgets=graph_budgets,\n",
    "                   seeds=seeds,\n",
    "                   penalties=penalties,\n",
    "                   regs=regs)"
   ]
  },
  {
   "cell_type": "code",
   "execution_count": null,
   "id": "849c5830ea15bca6",
   "metadata": {
    "collapsed": false
   },
   "outputs": [],
   "source": [
    "dimensions = [50]\n",
    "sizes = [500]\n",
    "graph_budgets = [1000]\n",
    "seeds = [i for i in range(100)]\n",
    "penalties = ['l2']\n",
    "regs = [0.5,2,5,10]\n",
    "\n",
    "\n",
    "run_bss_experiment(performance_function=breitung,\n",
    "                   threshold=0,\n",
    "                   region_indicator=breitung_region_indicator,\n",
    "                   file_name=\"bre_bss_dim_50_l2.json\",\n",
    "                   dimensions=dimensions,\n",
    "                   sizes=sizes,\n",
    "                   graph_budgets=graph_budgets,\n",
    "                   seeds=seeds,\n",
    "                   penalties=penalties,\n",
    "                   regs=regs)"
   ]
  },
  {
   "cell_type": "markdown",
   "id": "dae6e3775b20c6fa",
   "metadata": {
    "collapsed": false
   },
   "source": [
    "# Himmelblau"
   ]
  },
  {
   "cell_type": "code",
   "execution_count": null,
   "id": "6db80bcfd9ba4bc9",
   "metadata": {
    "collapsed": false
   },
   "outputs": [],
   "source": [
    "dimensions = [2]\n",
    "sizes = [100,500,1000,1500,2000]\n",
    "seeds = [i for i in range(100)]\n",
    "\n",
    "run_sus_experiment(performance_function=himmel,\n",
    "                   threshold=np.inf,\n",
    "                   region_indicator=himmel_region_indicator,\n",
    "                   file_name=\"him_sus_dim_2.json\",\n",
    "                   dimensions=dimensions,\n",
    "                   sizes=sizes,\n",
    "                   seeds=seeds)"
   ]
  },
  {
   "cell_type": "code",
   "execution_count": null,
   "id": "5e51f8d542726491",
   "metadata": {
    "collapsed": false
   },
   "outputs": [],
   "source": [
    "dimensions = [2]\n",
    "sizes = [100,500,1000]\n",
    "graph_budgets = [100,250,500]\n",
    "seeds = [i for i in range(100)]\n",
    "penalties = ['l2']\n",
    "regs = [1]\n",
    "\n",
    "run_bss_experiment(performance_function=himmel,\n",
    "                   threshold=np.inf,\n",
    "                   region_indicator=himmel_region_indicator,\n",
    "                   file_name=\"him_bss_dim_2.json\",\n",
    "                   dimensions=dimensions,\n",
    "                   sizes=sizes,\n",
    "                   graph_budgets=graph_budgets,\n",
    "                   seeds=seeds,\n",
    "                   penalties=penalties,\n",
    "                   regs=regs)"
   ]
  },
  {
   "cell_type": "code",
   "execution_count": null,
   "id": "bd5180f04b323144",
   "metadata": {
    "collapsed": false
   },
   "outputs": [],
   "source": [
    "dimensions = [50]\n",
    "sizes = [100,500,1000]\n",
    "graph_budgets = [100,250,500]\n",
    "seeds = [i for i in range(100)]\n",
    "penalties = ['l2']\n",
    "regs = [1]\n",
    "\n",
    "run_bss_experiment(performance_function=himmel,\n",
    "                   threshold=np.inf,\n",
    "                   region_indicator=himmel_region_indicator,\n",
    "                   file_name=\"him_bss_dim_50.json\",\n",
    "                   dimensions=dimensions,\n",
    "                   sizes=sizes,\n",
    "                   graph_budgets=graph_budgets,\n",
    "                   seeds=seeds,\n",
    "                   penalties=penalties,\n",
    "                   regs=regs)"
   ]
  },
  {
   "cell_type": "code",
   "execution_count": null,
   "id": "67620885352ddb94",
   "metadata": {
    "collapsed": false
   },
   "outputs": [],
   "source": [
    "dimensions = [50]\n",
    "sizes = [500]\n",
    "graph_budgets = [100]\n",
    "seeds = [i for i in range(100)]\n",
    "penalties = ['l1']\n",
    "regs = [0.5,2,5,10]\n",
    "\n",
    "run_bss_experiment(performance_function=himmel,\n",
    "                   threshold=np.inf,\n",
    "                   region_indicator=himmel_region_indicator,\n",
    "                   file_name=\"him_bss_dim_50_l1.json\",\n",
    "                   dimensions=dimensions,\n",
    "                   sizes=sizes,\n",
    "                   graph_budgets=graph_budgets,\n",
    "                   seeds=seeds,\n",
    "                   penalties=penalties,\n",
    "                   regs=regs)"
   ]
  },
  {
   "cell_type": "code",
   "execution_count": null,
   "id": "1a39c99ca027e0da",
   "metadata": {
    "collapsed": false
   },
   "outputs": [],
   "source": [
    "dimensions = [50]\n",
    "sizes = [500]\n",
    "graph_budgets = [100]\n",
    "seeds = [i for i in range(100)]\n",
    "penalties = ['l2']\n",
    "regs = [0.5,2,5,10]\n",
    "\n",
    "\n",
    "run_bss_experiment(performance_function=himmel,\n",
    "                   threshold=np.inf,\n",
    "                   region_indicator=himmel_region_indicator,\n",
    "                   file_name=\"him_bss_dim_50_l2.json\",\n",
    "                   dimensions=dimensions,\n",
    "                   sizes=sizes,\n",
    "                   graph_budgets=graph_budgets,\n",
    "                   seeds=seeds,\n",
    "                   penalties=penalties,\n",
    "                   regs=regs)"
   ]
  }
 ],
 "metadata": {
  "kernelspec": {
   "display_name": "Python 3 (ipykernel)",
   "language": "python",
   "name": "python3"
  },
  "language_info": {
   "codemirror_mode": {
    "name": "ipython",
    "version": 3
   },
   "file_extension": ".py",
   "mimetype": "text/x-python",
   "name": "python",
   "nbconvert_exporter": "python",
   "pygments_lexer": "ipython3",
   "version": "3.11.6"
  }
 },
 "nbformat": 4,
 "nbformat_minor": 5
}
