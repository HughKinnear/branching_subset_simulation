{
 "cells": [
  {
   "cell_type": "code",
   "execution_count": 1,
   "id": "fff93b79",
   "metadata": {
    "ExecuteTime": {
     "end_time": "2023-12-11T15:54:22.876766400Z",
     "start_time": "2023-12-11T15:54:22.138916Z"
    }
   },
   "outputs": [],
   "source": [
    "from branching_sus.direct_monte_carlo import DirectMonteCarlo\n",
    "from branching_sus.performance_function import breitung"
   ]
  },
  {
   "cell_type": "code",
   "execution_count": 6,
   "id": "39a4382b",
   "metadata": {
    "ExecuteTime": {
     "end_time": "2023-11-02T12:12:28.429131Z",
     "start_time": "2023-11-02T12:10:07.274225Z"
    }
   },
   "outputs": [],
   "source": [
    "dmc = DirectMonteCarlo(dim = 2,\n",
    "                       performance_function = breitung,\n",
    "                       sample_size =10**8,\n",
    "                       seed = 0)\n",
    "dmc.run()"
   ]
  },
  {
   "cell_type": "code",
   "execution_count": 7,
   "id": "cb530cf4",
   "metadata": {
    "ExecuteTime": {
     "end_time": "2023-11-02T12:17:54.609900Z",
     "start_time": "2023-11-02T12:17:47.480047Z"
    }
   },
   "outputs": [
    {
     "data": {
      "text/plain": [
       "3.177e-05"
      ]
     },
     "execution_count": 7,
     "metadata": {},
     "output_type": "execute_result"
    }
   ],
   "source": [
    "dmc.compute_exceedance_probability(0)"
   ]
  }
 ],
 "metadata": {
  "kernelspec": {
   "name": "python3",
   "language": "python",
   "display_name": "Python 3 (ipykernel)"
  },
  "language_info": {
   "codemirror_mode": {
    "name": "ipython",
    "version": 3
   },
   "file_extension": ".py",
   "mimetype": "text/x-python",
   "name": "python",
   "nbconvert_exporter": "python",
   "pygments_lexer": "ipython3",
   "version": "3.11.6"
  }
 },
 "nbformat": 4,
 "nbformat_minor": 5
}
